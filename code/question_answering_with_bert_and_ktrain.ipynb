{
  "nbformat": 4,
  "nbformat_minor": 0,
  "metadata": {
    "colab": {
      "name": "question_answering_with_bert_and_ktrain.ipynb",
      "provenance": [],
      "collapsed_sections": []
    },
    "kernelspec": {
      "name": "python3",
      "display_name": "Python 3"
    },
    "accelerator": "GPU"
  },
  "cells": [
    {
      "cell_type": "markdown",
      "metadata": {
        "id": "JyT7lokSvAm9"
      },
      "source": [
        "## Build an Open-Domain Question-Answering System With BERT and `ktrain`\n",
        "\n",
        "We first install `ktrain` and load a dataset into a Python list. We use the [20 Newsgroups dataset](https://scikit-learn.org/0.19/datasets/twenty_newsgroups.html) in this example."
      ]
    },
    {
      "cell_type": "code",
      "metadata": {
        "id": "ZhL3GhoWsy6m"
      },
      "source": [
        "!pip3 install -q ktrain"
      ],
      "execution_count": 31,
      "outputs": []
    },
    {
      "cell_type": "code",
      "metadata": {
        "id": "ltjsH--rs7Fo"
      },
      "source": [
        "# load 20newsgroups datset into an array\n",
        "from sklearn.datasets import fetch_20newsgroups\n",
        "remove = ('headers', 'footers', 'quotes')\n",
        "newsgroups_train = fetch_20newsgroups(subset='train', remove=remove)\n",
        "newsgroups_test = fetch_20newsgroups(subset='test', remove=remove)\n",
        "docs = newsgroups_train.data +  newsgroups_test.data"
      ],
      "execution_count": null,
      "outputs": []
    },
    {
      "cell_type": "markdown",
      "metadata": {
        "id": "5K4PlrCHvW1M"
      },
      "source": [
        "Next, we will import `ktrain` modules and set the location of the search index."
      ]
    },
    {
      "cell_type": "code",
      "metadata": {
        "id": "Utw_TaMLtVZX"
      },
      "source": [
        "import ktrain\n",
        "from ktrain import text"
      ],
      "execution_count": 33,
      "outputs": []
    },
    {
      "cell_type": "code",
      "metadata": {
        "id": "KDM8ohtetgpk"
      },
      "source": [
        "INDEXDIR = '/tmp/myindex'"
      ],
      "execution_count": 34,
      "outputs": []
    },
    {
      "cell_type": "markdown",
      "metadata": {
        "id": "xptDtujIvdDz"
      },
      "source": [
        "### STEP 1: Create a Search Index"
      ]
    },
    {
      "cell_type": "code",
      "metadata": {
        "id": "ntS_gOpdtnzI"
      },
      "source": [
        "text.SimpleQA.initialize_index(INDEXDIR)\n",
        "text.SimpleQA.index_from_list(docs, INDEXDIR, commit_every=len(docs))"
      ],
      "execution_count": null,
      "outputs": []
    },
    {
      "cell_type": "markdown",
      "metadata": {
        "id": "W53V29KWvlCb"
      },
      "source": [
        "### STEP 2: Create a QA Instance"
      ]
    },
    {
      "cell_type": "code",
      "metadata": {
        "id": "7EXw9zRStsUP"
      },
      "source": [
        "qa = text.SimpleQA(INDEXDIR)"
      ],
      "execution_count": 27,
      "outputs": []
    },
    {
      "cell_type": "markdown",
      "metadata": {
        "id": "CY42LIudvriT"
      },
      "source": [
        "### Ask Questions!\n",
        "\n",
        "##### Space Question"
      ]
    },
    {
      "cell_type": "code",
      "metadata": {
        "id": "ZiXOVpeutyWg",
        "colab": {
          "base_uri": "https://localhost:8080/",
          "height": 327
        },
        "outputId": "1fdf12f2-88e2-458d-9f9a-04233960fa1e"
      },
      "source": [
        "answers = qa.ask('When did the Cassini probe launch?')\n",
        "qa.display_answers(answers[:5])"
      ],
      "execution_count": 28,
      "outputs": [
        {
          "output_type": "display_data",
          "data": {
            "text/plain": [
              "<IPython.core.display.HTML object>"
            ],
            "text/html": [
              "\n",
              "<style>\n",
              "    /* Turns off some styling */\n",
              "    progress {\n",
              "        /* gets rid of default border in Firefox and Opera. */\n",
              "        border: none;\n",
              "        /* Needs to be in here for Safari polyfill so background images work as expected. */\n",
              "        background-size: auto;\n",
              "    }\n",
              "    .progress-bar-interrupted, .progress-bar-interrupted::-webkit-progress-bar {\n",
              "        background: #F44336;\n",
              "    }\n",
              "</style>\n"
            ]
          },
          "metadata": {}
        },
        {
          "output_type": "display_data",
          "data": {
            "text/plain": [
              "<IPython.core.display.HTML object>"
            ],
            "text/html": [
              ""
            ]
          },
          "metadata": {}
        },
        {
          "output_type": "display_data",
          "data": {
            "text/plain": [
              "<IPython.core.display.HTML object>"
            ],
            "text/html": [
              "<table border=\"1\" class=\"dataframe\">\n",
              "  <thead>\n",
              "    <tr style=\"text-align: right;\">\n",
              "      <th></th>\n",
              "      <th>Candidate Answer</th>\n",
              "      <th>Context</th>\n",
              "      <th>Confidence</th>\n",
              "      <th>Document Reference</th>\n",
              "    </tr>\n",
              "  </thead>\n",
              "  <tbody>\n",
              "    <tr>\n",
              "      <th>0</th>\n",
              "      <td>in october of 1997</td>\n",
              "      <td><div> cassini is scheduled for launch aboard a titan iv / centaur  <font color='red'>in october of 1997</font> .</div></td>\n",
              "      <td>0.819034</td>\n",
              "      <td>59</td>\n",
              "    </tr>\n",
              "    <tr>\n",
              "      <th>1</th>\n",
              "      <td>on january 26,1962</td>\n",
              "      <td><div>ranger 3, launched  <font color='red'>on january 26,1962</font> , was intended to land an instrument capsule on the surface of the moon, but problems during the launch caused the probe to miss the moon and head into solar orbit.</div></td>\n",
              "      <td>0.151228</td>\n",
              "      <td>8525</td>\n",
              "    </tr>\n",
              "    <tr>\n",
              "      <th>2</th>\n",
              "      <td>- 10 / 06 / 97</td>\n",
              "      <td><div>key scheduled dates for the cassini mission (vvejga trajectory)-------------------------------------------------------------10 / 06 / 97-titan iv / centaur launch 04 / 21 / 98-venus 1 gravity assist 06 / 20 / 99-venus 2 gravity assist 08 / 16 / 99-earth gravity assist 12 / 30 / 00-jupiter gravity assist 06 / 25 / 04-saturn arrival 01 / 09 / 05-titan probe release 01 / 30 / 05-titan probe entry 06 / 25 / 08-end of primary mission (schedule last updated 7 / 22 / 92) <font color='red'>- 10 / 06 / 97</font> </div></td>\n",
              "      <td>0.029694</td>\n",
              "      <td>59</td>\n",
              "    </tr>\n",
              "    <tr>\n",
              "      <th>3</th>\n",
              "      <td>* 98</td>\n",
              "      <td><div> cassini * * * * * * * * * * * * * * * * *  <font color='red'>* 98</font> ,115 * * * *</div></td>\n",
              "      <td>0.000026</td>\n",
              "      <td>5356</td>\n",
              "    </tr>\n",
              "    <tr>\n",
              "      <th>4</th>\n",
              "      <td>the latter part of the 1990s</td>\n",
              "      <td><div> scheduled for launch in  <font color='red'>the latter part of the 1990s</font> , the craf and cassini missions are a collaborative project of nasa, the european space agency and the federal space agencies of germany and italy, as well as the united states air force and the department of energy.</div></td>\n",
              "      <td>0.000017</td>\n",
              "      <td>18684</td>\n",
              "    </tr>\n",
              "  </tbody>\n",
              "</table>"
            ]
          },
          "metadata": {}
        }
      ]
    },
    {
      "cell_type": "markdown",
      "metadata": {
        "id": "vnpkp7m6zLks"
      },
      "source": [
        "As shown above, the top candidate answer of **October 1997** is the correct one.  (This won't always be the case, but it is here.)"
      ]
    },
    {
      "cell_type": "markdown",
      "metadata": {
        "id": "qwrdNvZkvzJo"
      },
      "source": [
        "##### Technical Support Question"
      ]
    },
    {
      "cell_type": "code",
      "metadata": {
        "id": "Dr1SXaPKuTOO",
        "colab": {
          "base_uri": "https://localhost:8080/",
          "height": 293
        },
        "outputId": "a1d7861f-99a4-4f1b-c3ef-d335a6c4fe5c"
      },
      "source": [
        "answers = qa.ask('What causes computer images to be too dark?')\n",
        "qa.display_answers(answers[:5])"
      ],
      "execution_count": 29,
      "outputs": [
        {
          "output_type": "display_data",
          "data": {
            "text/plain": [
              "<IPython.core.display.HTML object>"
            ],
            "text/html": [
              "\n",
              "<style>\n",
              "    /* Turns off some styling */\n",
              "    progress {\n",
              "        /* gets rid of default border in Firefox and Opera. */\n",
              "        border: none;\n",
              "        /* Needs to be in here for Safari polyfill so background images work as expected. */\n",
              "        background-size: auto;\n",
              "    }\n",
              "    .progress-bar-interrupted, .progress-bar-interrupted::-webkit-progress-bar {\n",
              "        background: #F44336;\n",
              "    }\n",
              "</style>\n"
            ]
          },
          "metadata": {}
        },
        {
          "output_type": "display_data",
          "data": {
            "text/plain": [
              "<IPython.core.display.HTML object>"
            ],
            "text/html": [
              ""
            ]
          },
          "metadata": {}
        },
        {
          "output_type": "display_data",
          "data": {
            "text/plain": [
              "<IPython.core.display.HTML object>"
            ],
            "text/html": [
              "<table border=\"1\" class=\"dataframe\">\n",
              "  <thead>\n",
              "    <tr style=\"text-align: right;\">\n",
              "      <th></th>\n",
              "      <th>Candidate Answer</th>\n",
              "      <th>Context</th>\n",
              "      <th>Confidence</th>\n",
              "      <th>Document Reference</th>\n",
              "    </tr>\n",
              "  </thead>\n",
              "  <tbody>\n",
              "    <tr>\n",
              "      <th>0</th>\n",
              "      <td>if your viewer does not do gamma correction</td>\n",
              "      <td><div> <font color='red'>if your viewer does not do gamma correction</font> , then linear images will look too dark, and gamma corrected images will ok.</div></td>\n",
              "      <td>0.937990</td>\n",
              "      <td>13873</td>\n",
              "    </tr>\n",
              "    <tr>\n",
              "      <th>1</th>\n",
              "      <td>is gamma correction</td>\n",
              "      <td><div> this,  <font color='red'>is gamma correction</font>  (or the lack of it).</div></td>\n",
              "      <td>0.045166</td>\n",
              "      <td>13873</td>\n",
              "    </tr>\n",
              "    <tr>\n",
              "      <th>2</th>\n",
              "      <td>so if you just dump your nice linear image out to a crt</td>\n",
              "      <td><div> <font color='red'>so if you just dump your nice linear image out to a crt</font> , the image will look much too dark.</div></td>\n",
              "      <td>0.010337</td>\n",
              "      <td>13873</td>\n",
              "    </tr>\n",
              "    <tr>\n",
              "      <th>3</th>\n",
              "      <td>that small color details</td>\n",
              "      <td><div> the algorithm achieves much of its compression by exploiting known limitations of the human eye, notably the fact  <font color='red'>that small color details</font>  are not perceived as well as small details of light and dark.</div></td>\n",
              "      <td>0.002114</td>\n",
              "      <td>6987</td>\n",
              "    </tr>\n",
              "    <tr>\n",
              "      <th>4</th>\n",
              "      <td>that small color details</td>\n",
              "      <td><div> the algorithm achieves much of its compression by exploiting known limitations of the human eye, notably the fact  <font color='red'>that small color details</font>  are not perceived as well as small details of light and dark.</div></td>\n",
              "      <td>0.002114</td>\n",
              "      <td>12344</td>\n",
              "    </tr>\n",
              "  </tbody>\n",
              "</table>"
            ]
          },
          "metadata": {}
        }
      ]
    },
    {
      "cell_type": "markdown",
      "metadata": {
        "id": "M5d_OOclzXfh"
      },
      "source": [
        "It looks like a **lack of gamma correction** is a cause of this technical problem."
      ]
    },
    {
      "cell_type": "markdown",
      "metadata": {
        "id": "QG4B4HSjv20d"
      },
      "source": [
        "##### Religious Question"
      ]
    },
    {
      "cell_type": "code",
      "metadata": {
        "id": "IOXjrBxyum1U",
        "colab": {
          "base_uri": "https://localhost:8080/",
          "height": 276
        },
        "outputId": "5ef22393-6398-46c3-ab19-988589341183"
      },
      "source": [
        "answers = qa.ask('Who was Mohammed Prophet?')\n",
        "qa.display_answers(answers[:5])"
      ],
      "execution_count": 36,
      "outputs": [
        {
          "output_type": "display_data",
          "data": {
            "text/plain": [
              "<IPython.core.display.HTML object>"
            ],
            "text/html": [
              "\n",
              "<style>\n",
              "    /* Turns off some styling */\n",
              "    progress {\n",
              "        /* gets rid of default border in Firefox and Opera. */\n",
              "        border: none;\n",
              "        /* Needs to be in here for Safari polyfill so background images work as expected. */\n",
              "        background-size: auto;\n",
              "    }\n",
              "    .progress-bar-interrupted, .progress-bar-interrupted::-webkit-progress-bar {\n",
              "        background: #F44336;\n",
              "    }\n",
              "</style>\n"
            ]
          },
          "metadata": {}
        },
        {
          "output_type": "display_data",
          "data": {
            "text/plain": [
              "<IPython.core.display.HTML object>"
            ],
            "text/html": [
              ""
            ]
          },
          "metadata": {}
        },
        {
          "output_type": "display_data",
          "data": {
            "text/plain": [
              "<IPython.core.display.HTML object>"
            ],
            "text/html": [
              "<table border=\"1\" class=\"dataframe\">\n",
              "  <thead>\n",
              "    <tr style=\"text-align: right;\">\n",
              "      <th></th>\n",
              "      <th>Candidate Answer</th>\n",
              "      <th>Context</th>\n",
              "      <th>Confidence</th>\n",
              "      <th>Document Reference</th>\n",
              "    </tr>\n",
              "  </thead>\n",
              "  <tbody>\n",
              "    <tr>\n",
              "      <th>0</th>\n",
              "      <td>anwar mohammed</td>\n",
              "      <td><div> unfortunately not all think like this, we have cases like : anas omran, hamza saleh, jle, mohammed reza, mehmed abu abed,  <font color='red'>anwar mohammed</font>  and others who think that jihad is the only solution.</div></td>\n",
              "      <td>0.834524</td>\n",
              "      <td>18764</td>\n",
              "    </tr>\n",
              "    <tr>\n",
              "      <th>1</th>\n",
              "      <td>prophet isaiah</td>\n",
              "      <td><div> 17 ] this was to fulfil what was spoken by the  <font color='red'>prophet isaiah</font> , \" he took our infirmities and bore our diseases.</div></td>\n",
              "      <td>0.094471</td>\n",
              "      <td>913</td>\n",
              "    </tr>\n",
              "    <tr>\n",
              "      <th>2</th>\n",
              "      <td>accept brigham young</td>\n",
              "      <td><div>\" the rest \" were apostates and excommunicated members of the church, while the great majority of the membership, the twelve, and the various auxiliary organizations, chose to  <font color='red'>accept brigham young</font>  as the new prophet and leader of the church.</div></td>\n",
              "      <td>0.027686</td>\n",
              "      <td>7242</td>\n",
              "    </tr>\n",
              "    <tr>\n",
              "      <th>3</th>\n",
              "      <td>\" rushdie</td>\n",
              "      <td><div>[ this was in response to the claim that  <font color='red'>\" rushdie</font>  made false statements about the life of mohammed \", with the disclaimer \" (fiction, i know, but where is the line between fact and fiction ?)-i stand by this distinction between fiction and \" false statements \" ]</div></td>\n",
              "      <td>0.021582</td>\n",
              "      <td>8475</td>\n",
              "    </tr>\n",
              "    <tr>\n",
              "      <th>4</th>\n",
              "      <td>barnabas</td>\n",
              "      <td><div>  <font color='red'>barnabas</font>  was a prophet, acts says, before he was even sent out as an apostle.</div></td>\n",
              "      <td>0.016268</td>\n",
              "      <td>8118</td>\n",
              "    </tr>\n",
              "  </tbody>\n",
              "</table>"
            ]
          },
          "metadata": {}
        }
      ]
    },
    {
      "cell_type": "markdown",
      "metadata": {
        "id": "sVlgKlcRzfVg"
      },
      "source": [
        "Here, we see different views on Mohammed Prophet buried within this dataset."
      ]
    }
  ]
}